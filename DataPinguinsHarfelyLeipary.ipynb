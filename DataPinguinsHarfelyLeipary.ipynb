{
  "cells": [
    {
      "cell_type": "markdown",
      "metadata": {
        "id": "view-in-github",
        "colab_type": "text"
      },
      "source": [
        "<a href=\"https://colab.research.google.com/github/harfelyleipary63/AI/blob/main/DataPinguinsHarfelyLeipary.ipynb\" target=\"_parent\"><img src=\"https://colab.research.google.com/assets/colab-badge.svg\" alt=\"Open In Colab\"/></a>"
      ]
    },
    {
      "cell_type": "markdown",
      "metadata": {
        "id": "kgxxHlZJgvBt"
      },
      "source": [
        "<h1 color=\"blue\"><b>🐧ANALISIS DATA PINGUIN</b></h1>"
      ]
    },
    {
      "cell_type": "markdown",
      "source": [
        "Database yang digunakan adalah \"data_pinguin.csv\". Dataset ini berisi informasi tentang berbagai spesies penguin, termasuk ukuran tubuh mereka.\n",
        "\n",
        "berisikan Spesifikasi data: <br>\n",
        "1.   Spesies penguin: Identitas spesies penguin, seperti Adelie, Chinstrap, atau Gentoo. <br>\n",
        "2.   Panjang paruh (culmen length): Ukuran panjang paruh penguin. <br>\n",
        "3. Kedalaman paruh (culmen depth): Ukuran kedalaman paruh penguin.<br>\n",
        "4. Panjang sirip (flipper length): Ukuran panjang sirip penguin.<br>\n",
        "5. Massa tubuh (body mass): Berat badan penguin.\n",
        "6. Sex ()\n",
        "7. Island ()<br>\n",
        "\n",
        "Selanjutnya dataset ini, akan dilakukan Membangun model klasifikasi: Melatih model komputer untuk memprediksi spesies penguin berdasarkan ukuran tubuhnya.\n"
      ],
      "metadata": {
        "id": "pPGuj3z49z_i"
      }
    },
    {
      "cell_type": "markdown",
      "metadata": {
        "id": "xbCnb1wBSIb8"
      },
      "source": [
        "##Importing Lybrary"
      ]
    },
    {
      "cell_type": "code",
      "execution_count": 1,
      "metadata": {
        "id": "Y8sgJOAagXCi"
      },
      "outputs": [],
      "source": [
        "import pandas as pd\n",
        "import numpy as np\n",
        "import matplotlib.pyplot as plt\n",
        "import seaborn as sns\n",
        "import pickle\n",
        "from sklearn.svm import SVC\n",
        "from sklearn.preprocessing import StandardScaler\n",
        "from sklearn.model_selection import train_test_split\n",
        "from sklearn.ensemble import RandomForestClassifier\n",
        "from sklearn.metrics import accuracy_score, classification_report, confusion_matrix\n",
        "from google.colab import drive\n",
        "import ipywidgets as widgets\n",
        "from IPython.display import display, clear_output\n",
        "from sklearn.cluster import KMeans\n",
        "from sklearn.preprocessing import LabelEncoder\n",
        "from sklearn.tree import DecisionTreeClassifier\n",
        "from sklearn.neighbors import KNeighborsClassifier"
      ]
    },
    {
      "cell_type": "markdown",
      "source": [
        "#Masukan Data"
      ],
      "metadata": {
        "id": "oNS3acsiBJih"
      }
    },
    {
      "cell_type": "code",
      "source": [
        "file_path = '/content/data_pinguin.csv'\n",
        "\n",
        "try:\n",
        "  df = pd.read_csv(file_path)\n",
        "  print(df.head())\n",
        "except FileNotFoundError:\n",
        "  print(f\"Error: File not found at {file_path}. Please check the file path.\")"
      ],
      "metadata": {
        "colab": {
          "base_uri": "https://localhost:8080/"
        },
        "id": "azordKMsxvH3",
        "outputId": "069be3a0-a829-43fc-fca2-e6651f23bb50"
      },
      "execution_count": 3,
      "outputs": [
        {
          "output_type": "stream",
          "name": "stdout",
          "text": [
            "                                     species island  culmen_length_mm  \\\n",
            "0        Adelie Penguin (Pygoscelis adeliae)  Dream              36.6   \n",
            "1        Adelie Penguin (Pygoscelis adeliae)  Dream              39.8   \n",
            "2        Adelie Penguin (Pygoscelis adeliae)  Dream              40.9   \n",
            "3  Chinstrap penguin (Pygoscelis antarctica)  Dream              46.5   \n",
            "4        Adelie Penguin (Pygoscelis adeliae)  Dream              37.3   \n",
            "\n",
            "   culmen_depth_mm  flipper_length_mm  body_mass_g     sex  \n",
            "0             18.4              184.0       3475.0  FEMALE  \n",
            "1             19.1              184.0       4650.0    MALE  \n",
            "2             18.9              184.0       3900.0    MALE  \n",
            "3             17.9              192.0       3500.0  FEMALE  \n",
            "4             16.8              192.0       3000.0  FEMALE  \n"
          ]
        }
      ]
    },
    {
      "cell_type": "markdown",
      "source": [
        "#Deskripsi Data"
      ],
      "metadata": {
        "id": "F4eI5vLvBRDj"
      }
    },
    {
      "cell_type": "code",
      "source": [
        "print(\"\\nInformasi Data Frame:\")\n",
        "print(df.info())\n",
        "\n",
        "print(\"\\nStatistik Deskriptif:\")\n",
        "print(df.describe())\n",
        "\n",
        "print(\"\\nJumlah Data Per Kolom:\")\n",
        "print(df.count())\n",
        "\n",
        "print(\"\\nJumlah Nilai Unik Per Kolom:\")\n",
        "for column in df.columns:\n",
        "  print(f\"Kolom '{column}': {df[column].nunique()} nilai unik\")\n",
        "\n",
        "print(\"\\nNilai Unik Per Kolom:\")\n",
        "for column in df.columns:\n",
        "    print(f\"Kolom '{column}': {df[column].unique()}\")\n",
        "\n",
        "print(\"\\nJumlah Data Hilang Per Kolom:\")\n",
        "print(df.isnull().sum())\n",
        "\n",
        "print(\"\\nKorelasi Antar Variabel:\")\n",
        "\n",
        "numerical_df = df.select_dtypes(include=['number'])\n",
        "print(numerical_df.corr())"
      ],
      "metadata": {
        "colab": {
          "base_uri": "https://localhost:8080/"
        },
        "id": "TI4HiOR1fajv",
        "outputId": "6c4aa349-2e17-4cc8-b328-3343a248dc70"
      },
      "execution_count": 4,
      "outputs": [
        {
          "output_type": "stream",
          "name": "stdout",
          "text": [
            "\n",
            "Informasi Data Frame:\n",
            "<class 'pandas.core.frame.DataFrame'>\n",
            "RangeIndex: 344 entries, 0 to 343\n",
            "Data columns (total 7 columns):\n",
            " #   Column             Non-Null Count  Dtype  \n",
            "---  ------             --------------  -----  \n",
            " 0   species            344 non-null    object \n",
            " 1   island             344 non-null    object \n",
            " 2   culmen_length_mm   342 non-null    float64\n",
            " 3   culmen_depth_mm    342 non-null    float64\n",
            " 4   flipper_length_mm  342 non-null    float64\n",
            " 5   body_mass_g        342 non-null    float64\n",
            " 6   sex                334 non-null    object \n",
            "dtypes: float64(4), object(3)\n",
            "memory usage: 18.9+ KB\n",
            "None\n",
            "\n",
            "Statistik Deskriptif:\n",
            "       culmen_length_mm  culmen_depth_mm  flipper_length_mm  body_mass_g\n",
            "count        342.000000       342.000000         342.000000   342.000000\n",
            "mean          43.921930        17.151170         200.915205  4201.754386\n",
            "std            5.459584         1.974793          14.061714   801.954536\n",
            "min           32.100000        13.100000         172.000000  2700.000000\n",
            "25%           39.225000        15.600000         190.000000  3550.000000\n",
            "50%           44.450000        17.300000         197.000000  4050.000000\n",
            "75%           48.500000        18.700000         213.000000  4750.000000\n",
            "max           59.600000        21.500000         231.000000  6300.000000\n",
            "\n",
            "Jumlah Data Per Kolom:\n",
            "species              344\n",
            "island               344\n",
            "culmen_length_mm     342\n",
            "culmen_depth_mm      342\n",
            "flipper_length_mm    342\n",
            "body_mass_g          342\n",
            "sex                  334\n",
            "dtype: int64\n",
            "\n",
            "Jumlah Nilai Unik Per Kolom:\n",
            "Kolom 'species': 3 nilai unik\n",
            "Kolom 'island': 3 nilai unik\n",
            "Kolom 'culmen_length_mm': 164 nilai unik\n",
            "Kolom 'culmen_depth_mm': 80 nilai unik\n",
            "Kolom 'flipper_length_mm': 55 nilai unik\n",
            "Kolom 'body_mass_g': 94 nilai unik\n",
            "Kolom 'sex': 3 nilai unik\n",
            "\n",
            "Nilai Unik Per Kolom:\n",
            "Kolom 'species': ['Adelie Penguin (Pygoscelis adeliae)'\n",
            " 'Chinstrap penguin (Pygoscelis antarctica)'\n",
            " 'Gentoo penguin (Pygoscelis papua)']\n",
            "Kolom 'island': ['Dream' 'Biscoe' 'Torgersen']\n",
            "Kolom 'culmen_length_mm': [36.6 39.8 40.9 46.5 37.3 43.2 46.9 50.5 49.5 40.2 40.8 39.  37.  47.\n",
            " 34.  45.7 50.6 39.7 37.8 46.6 51.3 36.8 49.6 52.  41.5 54.2 51.4 50.8\n",
            " 33.1 37.2 39.5 46.1 36.  39.6 51.7 41.3 45.6 50.2 35.7 43.5 49.  37.5\n",
            " 46.2 51.5 42.5 38.1 40.6 36.2 49.2 47.6 46.7 46.  36.4 49.7 49.3 50.7\n",
            " 51.  42.2 32.1 45.4 50.9 40.3 45.5 50.  39.2 44.1 37.6 42.4 58.  38.3\n",
            " 36.9 46.8 52.2 52.7 50.3 53.5 41.1 52.8 36.5 36.3 38.9 40.7 45.9 38.8\n",
            " 46.4 50.1 45.2 49.8 51.9 48.5 42.3 35.6 47.5 48.1 55.8  nan 41.6 35.\n",
            " 42.  43.8 43.3 44.  42.7 45.3 48.7 49.4 47.3 44.5 47.7 50.4 38.2 37.9\n",
            " 42.8 43.6 51.1 45.8 45.1 48.2 41.7 43.4 35.3 40.5 34.5 35.5 41.  48.4\n",
            " 44.4 53.4 37.7 40.1 47.4 44.9 49.1 45.  55.9 35.9 42.6 49.9 52.5 47.2\n",
            " 48.8 52.1 59.6 48.6 55.1 41.4 38.6 47.8 46.3 42.9 54.3 34.4 35.1 36.7\n",
            " 34.1 35.2 42.1 38.7 39.1 34.6 43.1 33.5 39.3 38.5 41.8]\n",
            "Kolom 'culmen_depth_mm': [18.4 19.1 18.9 17.9 16.8 18.5 16.6 19.  20.1 18.7 16.9 17.3 17.1 16.5\n",
            " 19.4 18.1 17.8 19.2 18.2 19.6 20.8 16.1 16.7 20.3 18.8 18.  19.5 20.7\n",
            " 17.5 17.6 17.2 18.3 17.  18.6 19.9 19.7 15.5 21.1 19.3 19.8 20.  21.2\n",
            " 16.4  nan 13.9 14.  13.6 13.7 13.8 14.5 15.7 15.2 15.8 15.  14.3 15.9\n",
            " 15.3 17.7 15.1 13.4 14.2 14.8 14.4 14.1 16.  14.6 13.5 14.7 16.2 13.2\n",
            " 16.3 15.4 13.3 15.6 14.9 13.1 17.4 21.5 20.2 20.6 20.5]\n",
            "Kolom 'flipper_length_mm': [184. 192. 200. 208. 185. 193. 201. 178. 186. 194. 202. 210. 179. 187.\n",
            " 195. 203. 180. 188. 196. 212. 181. 189. 197. 205. 182. 190. 198. 206.\n",
            " 191. 199. 207.  nan 216. 224. 209. 217. 225. 218. 226. 211. 219. 172.\n",
            " 220. 228. 213. 221. 229. 174. 214. 222. 230. 183. 215. 223. 231. 176.]\n",
            "Kolom 'body_mass_g': [3475. 4650. 3900. 3500. 3000. 4100. 2700. 3400. 3800. 3975. 4300. 3650.\n",
            " 3700. 3600. 4250. 3750. 3775. 4050. 4000. 3950. 4450. 2900. 3250. 3100.\n",
            " 3550. 3525. 4800. 2975. 3200. 3350. 3425. 3300. 4400. 3850. 4150. 3325.\n",
            " 3450. 3050. 4350. 3675. 3725. 4500. 4550. 3150. 4600. 3575. 3175. 4475.\n",
            "   nan 2850. 4575. 4200. 5350. 5000. 4925. 4725. 4750. 4700. 5550. 5650.\n",
            " 2925. 5500. 4900. 5850. 5200. 4875. 4375. 5250. 5700. 5400. 4850. 4950.\n",
            " 5300. 4625. 4075. 5050. 6000. 5150. 5600. 4275. 4775. 5100. 6300. 5450.\n",
            " 5950. 5800. 3825. 5750. 6050. 3075. 4975. 3875. 4675. 3625. 3275.]\n",
            "Kolom 'sex': ['FEMALE' 'MALE' nan '.']\n",
            "\n",
            "Jumlah Data Hilang Per Kolom:\n",
            "species               0\n",
            "island                0\n",
            "culmen_length_mm      2\n",
            "culmen_depth_mm       2\n",
            "flipper_length_mm     2\n",
            "body_mass_g           2\n",
            "sex                  10\n",
            "dtype: int64\n",
            "\n",
            "Korelasi Antar Variabel:\n",
            "                   culmen_length_mm  culmen_depth_mm  flipper_length_mm  \\\n",
            "culmen_length_mm           1.000000        -0.235053           0.656181   \n",
            "culmen_depth_mm           -0.235053         1.000000          -0.583851   \n",
            "flipper_length_mm          0.656181        -0.583851           1.000000   \n",
            "body_mass_g                0.595110        -0.471916           0.871202   \n",
            "\n",
            "                   body_mass_g  \n",
            "culmen_length_mm      0.595110  \n",
            "culmen_depth_mm      -0.471916  \n",
            "flipper_length_mm     0.871202  \n",
            "body_mass_g           1.000000  \n"
          ]
        }
      ]
    },
    {
      "cell_type": "markdown",
      "source": [
        "#Sebaran Variabel Unik"
      ],
      "metadata": {
        "id": "Po3ggE9vBWlX"
      }
    },
    {
      "cell_type": "code",
      "execution_count": 5,
      "metadata": {
        "id": "uBhY1__7g8Gw",
        "colab": {
          "base_uri": "https://localhost:8080/"
        },
        "outputId": "e66474fa-3a8b-400c-a0d8-39c518eb5f9f"
      },
      "outputs": [
        {
          "output_type": "stream",
          "name": "stdout",
          "text": [
            "species\n",
            "Adelie Penguin (Pygoscelis adeliae)          152\n",
            "Gentoo penguin (Pygoscelis papua)            124\n",
            "Chinstrap penguin (Pygoscelis antarctica)     68\n",
            "Name: count, dtype: int64\n"
          ]
        }
      ],
      "source": [
        "location_count = df['species'].value_counts()\n",
        "print(location_count)"
      ]
    },
    {
      "cell_type": "markdown",
      "source": [
        "#Nan Data"
      ],
      "metadata": {
        "id": "dhs5XUtqBcP-"
      }
    },
    {
      "cell_type": "code",
      "execution_count": 6,
      "metadata": {
        "id": "MBk35CsihM3q",
        "colab": {
          "base_uri": "https://localhost:8080/"
        },
        "outputId": "501c98d3-ea3f-474b-f8e6-3344037c57ef"
      },
      "outputs": [
        {
          "output_type": "stream",
          "name": "stdout",
          "text": [
            "species               0\n",
            "island                0\n",
            "culmen_length_mm      2\n",
            "culmen_depth_mm       2\n",
            "flipper_length_mm     2\n",
            "body_mass_g           2\n",
            "sex                  10\n",
            "dtype: int64\n"
          ]
        }
      ],
      "source": [
        "print (df.isnull().sum())"
      ]
    },
    {
      "cell_type": "code",
      "source": [
        "# Mengisi nilai yang hilang pada kolom numerik dengan median\n",
        "df['culmen_length_mm'] = df['culmen_length_mm'].fillna(df['culmen_length_mm'].median())\n",
        "df['culmen_depth_mm'] = df['culmen_depth_mm'].fillna(df['culmen_depth_mm'].median())\n",
        "df['flipper_length_mm'] = df['flipper_length_mm'].fillna(df['flipper_length_mm'].median())\n",
        "df['body_mass_g'] = df['body_mass_g'].fillna(df['body_mass_g'].median())\n",
        "\n",
        "# Mengisi nilai yang hilang pada kolom kategori dengan mode\n",
        "df['sex'] = df['sex'].fillna(df['sex'].mode()[0])\n",
        "df['island'] = df['island'].fillna(df['island'].mode()[0])"
      ],
      "metadata": {
        "id": "TH15GdVZgUmv"
      },
      "execution_count": 7,
      "outputs": []
    },
    {
      "cell_type": "code",
      "source": [
        "print(df.isnull().sum())"
      ],
      "metadata": {
        "colab": {
          "base_uri": "https://localhost:8080/"
        },
        "id": "Lozs2vJugggT",
        "outputId": "f65cd162-7015-4d13-81e3-2219be6e3abf"
      },
      "execution_count": 8,
      "outputs": [
        {
          "output_type": "stream",
          "name": "stdout",
          "text": [
            "species              0\n",
            "island               0\n",
            "culmen_length_mm     0\n",
            "culmen_depth_mm      0\n",
            "flipper_length_mm    0\n",
            "body_mass_g          0\n",
            "sex                  0\n",
            "dtype: int64\n"
          ]
        }
      ]
    },
    {
      "cell_type": "markdown",
      "source": [
        "#Plotingan Data Awal"
      ],
      "metadata": {
        "id": "Ba7QP4R0Bgoe"
      }
    },
    {
      "cell_type": "code",
      "source": [
        "#Heatmap untuk melihat korelasi antar variabel\n",
        "plt.figure(figsize=(10, 8))\n",
        "# Select only numeric columns for correlation calculation\n",
        "numeric_df = df.select_dtypes(include=['number'])\n",
        "sns.heatmap(numeric_df.corr(), annot=True, cmap='coolwarm', linewidths=0.5)\n",
        "plt.title('Korelasi Antar Variabel')\n",
        "plt.show()"
      ],
      "metadata": {
        "colab": {
          "base_uri": "https://localhost:8080/",
          "height": 699
        },
        "id": "Cjyh7DGCi3f8",
        "outputId": "19d6c601-53a3-4f5a-8f7d-3e08f99b6e79"
      },
      "execution_count": 9,
      "outputs": [
        {
          "output_type": "display_data",
          "data": {
            "text/plain": [
              "<Figure size 1000x800 with 2 Axes>"
            ],
            "image/png": "[encoded data removed]"
          },
          "metadata": {}
        }
      ]
    },
    {
      "cell_type": "code",
      "source": [
        "#Scatter plot untuk hubungan antara 'flipper_length_mm' dan 'body_mass_g'\n",
        "plt.figure(figsize=(10, 6))\n",
        "sns.scatterplot(data=df, x='flipper_length_mm', y='body_mass_g', hue='species')\n",
        "plt.title('Hubungan antara Panjang Flipper dan Berat Badan')\n",
        "plt.xlabel('Flipper Length (mm)')\n",
        "plt.ylabel('Body Mass (g)')\n",
        "plt.legend(title='Species')\n",
        "plt.show()\n",
        "\n",
        "#Scatter plot untuk hubungan antara 'flipper_length_mm' dan 'culmen_length_mm'\n",
        "plt.figure(figsize=(10, 6))\n",
        "sns.scatterplot(data=df, x='flipper_length_mm', y='culmen_length_mm', hue='species')\n",
        "plt.title('Hubungan antara Panjang Flipper dan Panjang Culmen')\n",
        "plt.xlabel('Flipper Length (mm)')\n",
        "plt.ylabel('Culmen Length (mm)')\n",
        "plt.legend(title='Species')\n",
        "plt.show()"
      ],
      "metadata": {
        "colab": {
          "base_uri": "https://localhost:8080/",
          "height": 1000
        },
        "id": "WLS68Xo77OhK",
        "outputId": "7c9cf2da-4693-4229-bff6-372c3dafaf09"
      },
      "execution_count": 10,
      "outputs": [
        {
          "output_type": "display_data",
          "data": {
            "text/plain": [
              "<Figure size 1000x600 with 1 Axes>"
            ],
            "image/png": "[encoded data removed]"
          },
          "metadata": {}
        },
        {
          "output_type": "display_data",
          "data": {
            "text/plain": [
              "<Figure size 1000x600 with 1 Axes>"
            ],
            "image/png": "[encoded data removed]"
          },
          "metadata": {}
        }
      ]
    },
    {
      "cell_type": "code",
      "source": [
        "# Menghitung rata-rata 'body_mass_g' untuk setiap spesies\n",
        "average_body_mass_by_species = df.groupby('species')['body_mass_g'].mean()\n",
        "print(\"\\nRata-rata Berat Badan Berdasarkan Spesies:\")\n",
        "print(average_body_mass_by_species)\n",
        "\n",
        "# Menghitung rata-rata 'culmen_length_mm' untuk setiap spesies\n",
        "average_culmen_length_by_species = df.groupby('species')['culmen_length_mm'].mean()\n",
        "print(\"\\nRata-rata Panjang Paruh Berdasarkan Spesies:\")\n",
        "print(average_culmen_length_by_species)\n",
        "\n",
        "# Menghitung rata-rata 'flipper_length_mm' untuk setiap spesies\n",
        "average_flipper_length_by_species = df.groupby('species')['flipper_length_mm'].mean()\n",
        "print(\"\\nRata-rata Panjang Sirip Berdasarkan Spesies:\")\n",
        "average_flipper_length_by_species"
      ],
      "metadata": {
        "colab": {
          "base_uri": "https://localhost:8080/",
          "height": 487
        },
        "id": "2YOsMwClRvZQ",
        "outputId": "62e1ff23-4fac-488e-9b35-1978daa3baf1"
      },
      "execution_count": 11,
      "outputs": [
        {
          "output_type": "stream",
          "name": "stdout",
          "text": [
            "\n",
            "Rata-rata Berat Badan Berdasarkan Spesies:\n",
            "species\n",
            "Adelie Penguin (Pygoscelis adeliae)          3702.960526\n",
            "Chinstrap penguin (Pygoscelis antarctica)    3733.088235\n",
            "Gentoo penguin (Pygoscelis papua)            5067.741935\n",
            "Name: body_mass_g, dtype: float64\n",
            "\n",
            "Rata-rata Panjang Paruh Berdasarkan Spesies:\n",
            "species\n",
            "Adelie Penguin (Pygoscelis adeliae)          38.828618\n",
            "Chinstrap penguin (Pygoscelis antarctica)    48.833824\n",
            "Gentoo penguin (Pygoscelis papua)            47.480242\n",
            "Name: culmen_length_mm, dtype: float64\n",
            "\n",
            "Rata-rata Panjang Sirip Berdasarkan Spesies:\n"
          ]
        },
        {
          "output_type": "execute_result",
          "data": {
            "text/plain": [
              "species\n",
              "Adelie Penguin (Pygoscelis adeliae)          190.000000\n",
              "Chinstrap penguin (Pygoscelis antarctica)    195.823529\n",
              "Gentoo penguin (Pygoscelis papua)            217.024194\n",
              "Name: flipper_length_mm, dtype: float64"
            ],
            "text/html": [
              "<div>\n",
              "<style scoped>\n",
              "    .dataframe tbody tr th:only-of-type {\n",
              "        vertical-align: middle;\n",
              "    }\n",
              "\n",
              "    .dataframe tbody tr th {\n",
              "        vertical-align: top;\n",
              "    }\n",
              "\n",
              "    .dataframe thead th {\n",
              "        text-align: right;\n",
              "    }\n",
              "</style>\n",
              "<table border=\"1\" class=\"dataframe\">\n",
              "  <thead>\n",
              "    <tr style=\"text-align: right;\">\n",
              "      <th></th>\n",
              "      <th>flipper_length_mm</th>\n",
              "    </tr>\n",
              "    <tr>\n",
              "      <th>species</th>\n",
              "      <th></th>\n",
              "    </tr>\n",
              "  </thead>\n",
              "  <tbody>\n",
              "    <tr>\n",
              "      <th>Adelie Penguin (Pygoscelis adeliae)</th>\n",
              "      <td>190.000000</td>\n",
              "    </tr>\n",
              "    <tr>\n",
              "      <th>Chinstrap penguin (Pygoscelis antarctica)</th>\n",
              "      <td>195.823529</td>\n",
              "    </tr>\n",
              "    <tr>\n",
              "      <th>Gentoo penguin (Pygoscelis papua)</th>\n",
              "      <td>217.024194</td>\n",
              "    </tr>\n",
              "  </tbody>\n",
              "</table>\n",
              "</div><br><label><b>dtype:</b> float64</label>"
            ]
          },
          "metadata": {},
          "execution_count": 11
        }
      ]
    },
    {
      "cell_type": "code",
      "execution_count": 12,
      "metadata": {
        "id": "cE2haKP2l43P",
        "colab": {
          "base_uri": "https://localhost:8080/",
          "height": 175,
          "referenced_widgets": [
            "45ba27fae8d9404dbfd81c0a29e15c0a",
            "42698518397a44d1ac37b234754c2a54",
            "83baa4a2b86b41c288b166973ee0d6e3",
            "71632939d61940a2965154626aa55f57",
            "5bdd51a060b3492497b8fd32773f73b1",
            "73c2d692fb884b9a8f4142494f3fbd2d",
            "cb48f00ce8a74823b7234b2c78138a9b",
            "cc12638498e646a7beecfdc50cdda53b",
            "4da3ff3dc21e4179abf7ced9d4553532",
            "a44d11dcd39a4cc3ba59e991f88287e3",
            "8de93d4556154110b681f998c54d8597",
            "a667a165a6034decbd254b6c586602e8",
            "54742fc25cb949a29821d240dc77b81b",
            "546a2cab8c7c45d3aa24779a1689929e",
            "7685059360a346bd9218fb0a056abc3f",
            "e792b198e80e4cb6936d16965ece96b4",
            "444cdcc4fff74f5697f03e51b03b8c51",
            "ec603ce7314d494f947bc5b86500f08c"
          ]
        },
        "outputId": "b7a32821-eacc-4a71-8390-6cb887a19069"
      },
      "outputs": [
        {
          "output_type": "display_data",
          "data": {
            "text/plain": [
              "Text(value='', description='Culmen Length (mm):')"
            ],
            "application/vnd.jupyter.widget-view+json": {
              "version_major": 2,
              "version_minor": 0,
              "model_id": "45ba27fae8d9404dbfd81c0a29e15c0a"
            }
          },
          "metadata": {}
        },
        {
          "output_type": "display_data",
          "data": {
            "text/plain": [
              "Text(value='', description='Culmen Depth (mm):')"
            ],
            "application/vnd.jupyter.widget-view+json": {
              "version_major": 2,
              "version_minor": 0,
              "model_id": "71632939d61940a2965154626aa55f57"
            }
          },
          "metadata": {}
        },
        {
          "output_type": "display_data",
          "data": {
            "text/plain": [
              "Text(value='', description='Flipper Length (mm):')"
            ],
            "application/vnd.jupyter.widget-view+json": {
              "version_major": 2,
              "version_minor": 0,
              "model_id": "cb48f00ce8a74823b7234b2c78138a9b"
            }
          },
          "metadata": {}
        },
        {
          "output_type": "display_data",
          "data": {
            "text/plain": [
              "Text(value='', description='Body Mass (g):')"
            ],
            "application/vnd.jupyter.widget-view+json": {
              "version_major": 2,
              "version_minor": 0,
              "model_id": "a44d11dcd39a4cc3ba59e991f88287e3"
            }
          },
          "metadata": {}
        },
        {
          "output_type": "display_data",
          "data": {
            "text/plain": [
              "Button(description='Predict Species', style=ButtonStyle())"
            ],
            "application/vnd.jupyter.widget-view+json": {
              "version_major": 2,
              "version_minor": 0,
              "model_id": "54742fc25cb949a29821d240dc77b81b"
            }
          },
          "metadata": {}
        },
        {
          "output_type": "display_data",
          "data": {
            "text/plain": [
              "Label(value='')"
            ],
            "application/vnd.jupyter.widget-view+json": {
              "version_major": 2,
              "version_minor": 0,
              "model_id": "e792b198e80e4cb6936d16965ece96b4"
            }
          },
          "metadata": {}
        }
      ],
      "source": [
        "#Menggunakan display widgets\n",
        "# Function to predict species and display result\n",
        "def predict_and_display(button):\n",
        "  try:\n",
        "    culmen_length = float(culmen_length_input.value)\n",
        "    culmen_depth = float(culmen_depth_input.value)\n",
        "    flipper_length = float(flipper_length_input.value)\n",
        "    body_mass = float(body_mass_input.value)\n",
        "    predicted_species = predict_species(culmen_length, culmen_depth, flipper_length, body_mass)\n",
        "    result_label.value = f\"Predicted species: {predicted_species}\"\n",
        "  except ValueError:\n",
        "    result_label.value = \"Please enter valid numerical values.\"\n",
        "\n",
        "# Membuat masukan widgets\n",
        "culmen_length_input = widgets.Text(description=\"Culmen Length (mm):\")\n",
        "culmen_depth_input = widgets.Text(description=\"Culmen Depth (mm):\")\n",
        "flipper_length_input = widgets.Text(description=\"Flipper Length (mm):\")\n",
        "body_mass_input = widgets.Text(description=\"Body Mass (g):\")\n",
        "predict_button = widgets.Button(description=\"Predict Species\")\n",
        "result_label = widgets.Label(value=\"\")\n",
        "\n",
        "# Display widgets\n",
        "display(culmen_length_input, culmen_depth_input, flipper_length_input, body_mass_input, predict_button, result_label)\n",
        "\n",
        "# tombol untuk prediction function\n",
        "predict_button.on_click(predict_and_display)"
      ]
    },
    {
      "cell_type": "code",
      "source": [
        "# Convert 'species' column to numerical values using LabelEncoder\n",
        "le = LabelEncoder()\n",
        "df['species'] = le.fit_transform(df['species'])\n",
        "\n",
        "# Convert 'island' column to numerical values using LabelEncoder\n",
        "le_island = LabelEncoder()\n",
        "df['island'] = le_island.fit_transform(df['island'])\n",
        "\n",
        "# Convert 'sex' column to numerical values using LabelEncoder\n",
        "le_sex = LabelEncoder()\n",
        "df['sex'] = le_sex.fit_transform(df['sex'])\n",
        "\n",
        "# Now your DataFrame has numerical values for categorical columns\n",
        "print(df.head())"
      ],
      "metadata": {
        "colab": {
          "base_uri": "https://localhost:8080/"
        },
        "id": "0YeaCNr3n-k2",
        "outputId": "e1853e66-15f4-4ec0-8def-4d55437c1dca"
      },
      "execution_count": 13,
      "outputs": [
        {
          "output_type": "stream",
          "name": "stdout",
          "text": [
            "   species  island  culmen_length_mm  culmen_depth_mm  flipper_length_mm  \\\n",
            "0        0       1              36.6             18.4              184.0   \n",
            "1        0       1              39.8             19.1              184.0   \n",
            "2        0       1              40.9             18.9              184.0   \n",
            "3        1       1              46.5             17.9              192.0   \n",
            "4        0       1              37.3             16.8              192.0   \n",
            "\n",
            "   body_mass_g  sex  \n",
            "0       3475.0    1  \n",
            "1       4650.0    2  \n",
            "2       3900.0    2  \n",
            "3       3500.0    1  \n",
            "4       3000.0    1  \n"
          ]
        }
      ]
    },
    {
      "cell_type": "code",
      "execution_count": 20,
      "metadata": {
        "id": "2pIi7-BPruJo",
        "colab": {
          "base_uri": "https://localhost:8080/"
        },
        "outputId": "b5c73e3c-6516-43dd-bbb0-85cea79e5b59"
      },
      "outputs": [
        {
          "output_type": "stream",
          "name": "stdout",
          "text": [
            "Hasil Akurasi Model:\n",
            "Random Forest: 0.927536231884058\n",
            "SVM: 0.6376811594202898\n",
            "Decision Tree: 0.927536231884058\n",
            "KNN: 0.6811594202898551\n",
            "\n",
            "Model terbaik adalah Random Forest dengan akurasi 0.927536231884058\n"
          ]
        }
      ],
      "source": [
        "# Pisahkan fitur (X) dan target (y)\n",
        "X = df[['culmen_length_mm', 'flipper_length_mm', 'body_mass_g']]\n",
        "y = df['species']\n",
        "\n",
        "# Bagi dataset menjadi data latih dan data uji\n",
        "X_train, X_test, y_train, y_test = train_test_split(X, y, test_size=0.2, random_state=42)\n",
        "\n",
        "# Inisialisasi model-model klasifikasi\n",
        "models = {\n",
        "    \"Random Forest\": RandomForestClassifier(),\n",
        "    \"SVM\": SVC(),  # Support Vector Machine\n",
        "    \"Decision Tree\": DecisionTreeClassifier(),\n",
        "    \"KNN\": KNeighborsClassifier()\n",
        "}\n",
        "\n",
        "# Latih dan evaluasi model-model\n",
        "results = {}\n",
        "for model_name, model in models.items():\n",
        "  model.fit(X_train, y_train)\n",
        "  y_pred = model.predict(X_test)\n",
        "  accuracy = accuracy_score(y_test, y_pred)\n",
        "  results[model_name] = accuracy\n",
        "\n",
        "# Tampilkan hasil akurasi model\n",
        "print(\"Hasil Akurasi Model:\")\n",
        "for model_name, accuracy in results.items():\n",
        "  print(f\"{model_name}: {accuracy}\")\n",
        "\n",
        "# Pilih model terbaik berdasarkan akurasi\n",
        "best_model_name = max(results, key=results.get)\n",
        "best_model = models[best_model_name]\n",
        "print(f\"\\nModel terbaik adalah {best_model_name} dengan akurasi {results[best_model_name]}\")\n",
        "\n",
        "# Simpan model terbaik\n",
        "filename = 'penguin_species_model_yangdigunakan.sav'\n",
        "pickle.dump(best_model, open(filename, 'wb'))\n",
        "\n",
        "# Function to predict species and display result\n",
        "def predict_species(culmen_length, culmen_depth, flipper_length, body_mass):\n",
        "  input_data = np.array([[culmen_length, culmen_depth, flipper_length, body_mass]])\n",
        "  predicted_species = best_model.predict(input_data)[0]\n",
        "  return predicted_species"
      ]
    },
    {
      "cell_type": "markdown",
      "source": [
        "* **Spesies 0:** mewakili spesies **Adelie**.\n",
        "* **Spesies 1:** mewakili spesies **Chinstrap**.\n",
        "* **Spesies 2:** mewakili spesies **Gentoo**."
      ],
      "metadata": {
        "id": "_eDtXhHRoseu"
      }
    },
    {
      "cell_type": "code",
      "execution_count": 28,
      "metadata": {
        "id": "9Q34LwM_t36-",
        "colab": {
          "base_uri": "https://localhost:8080/"
        },
        "outputId": "a4420948-7873-4366-80d0-5c75af8fc511"
      },
      "outputs": [
        {
          "output_type": "stream",
          "name": "stdout",
          "text": [
            "Predicted species: [0]\n"
          ]
        },
        {
          "output_type": "stream",
          "name": "stderr",
          "text": [
            "/usr/local/lib/python3.10/dist-packages/sklearn/base.py:493: UserWarning: X does not have valid feature names, but RandomForestClassifier was fitted with feature names\n",
            "  warnings.warn(\n"
          ]
        }
      ],
      "source": [
        "# Load the saved model\n",
        "filename = '/content/penguin_species_model_yangdigunakan.sav'\n",
        "loaded_model = pickle.load(open(filename, 'rb'))\n",
        "\n",
        "culmen_length = 40  # Example value\n",
        "flipper_length = 190 # Example value\n",
        "body_mass = 4000  # Example value\n",
        "new_data = [[culmen_length, flipper_length, body_mass]]\n",
        "prediction = loaded_model.predict(new_data)\n",
        "print(\"Predicted species:\", prediction)\n",
        "\n",
        "def predict_species(culmen_length, flipper_length, body_mass):\n",
        "  input_data = np.array([[culmen_length, flipper_length, body_mass]])\n",
        "  predicted_species = loaded_model.predict(input_data)[0]\n",
        "  return predicted_species"
      ]
    },
    {
      "cell_type": "code",
      "source": [
        "# Load the saved model\n",
        "filename = 'penguin_species_model_yangdigunakan.sav'\n",
        "loaded_model = pickle.load(open(filename, 'rb'))\n",
        "\n",
        "#  have a new data file named 'new_penguin_data.csv'\n",
        "new_data_path = '/content/data_pinguin_Tes.csv'\n",
        "\n",
        "try:\n",
        "    # Baca data baru dari file CSV\n",
        "    new_df = pd.read_csv(new_data_path)\n",
        "\n",
        "    # Persiapkan data baru untuk prediksi ('culmen_length_mm', 'flipper_length_mm', 'body_mass_g' ada)\n",
        "    X_new = new_df[['culmen_length_mm', 'flipper_length_mm', 'body_mass_g']]\n",
        "\n",
        "    # Lakukan prediksi menggunakan model yang telah dilatih\n",
        "    predictions = loaded_model.predict(X_new)\n",
        "\n",
        "    # Buat DataFrame baru untuk menampilkan hasil prediksi dan aktual\n",
        "    result_df = pd.DataFrame({\n",
        "        'Spesies Aktual': new_df['species'],\n",
        "        'Spesies Prediksi': predictions\n",
        "    })\n",
        "\n",
        "    # Tampilkan hasil prediksi\n",
        "    print(result_df)\n",
        "\n",
        "    # Evaluasi akurasi prediksi\n",
        "    correct_predictions = (result_df['Spesies Aktual'] == result_df['Spesies Prediksi']).sum()\n",
        "    incorrect_predictions = len(result_df) - correct_predictions\n",
        "\n",
        "\n",
        "except FileNotFoundError:\n",
        "    print(f\"Error: File tidak ditemukan di {new_data_path}. Periksa kembali path file.\")"
      ],
      "metadata": {
        "colab": {
          "base_uri": "https://localhost:8080/"
        },
        "id": "SoCY1p3nwRi6",
        "outputId": "0ee5ec17-6188-4158-8223-d284e954a409"
      },
      "execution_count": 24,
      "outputs": [
        {
          "output_type": "stream",
          "name": "stdout",
          "text": [
            "                               Spesies Aktual  Spesies Prediksi\n",
            "0         Adelie Penguin (Pygoscelis adeliae)                 0\n",
            "1         Adelie Penguin (Pygoscelis adeliae)                 0\n",
            "2         Adelie Penguin (Pygoscelis adeliae)                 0\n",
            "3   Chinstrap penguin (Pygoscelis antarctica)                 1\n",
            "4         Adelie Penguin (Pygoscelis adeliae)                 0\n",
            "5         Adelie Penguin (Pygoscelis adeliae)                 0\n",
            "6   Chinstrap penguin (Pygoscelis antarctica)                 1\n",
            "7   Chinstrap penguin (Pygoscelis antarctica)                 1\n",
            "8   Chinstrap penguin (Pygoscelis antarctica)                 1\n",
            "9         Adelie Penguin (Pygoscelis adeliae)                 0\n",
            "10        Adelie Penguin (Pygoscelis adeliae)                 0\n",
            "11        Adelie Penguin (Pygoscelis adeliae)                 0\n",
            "12        Adelie Penguin (Pygoscelis adeliae)                 0\n",
            "13  Chinstrap penguin (Pygoscelis antarctica)                 1\n",
            "14        Adelie Penguin (Pygoscelis adeliae)                 0\n",
            "15        Adelie Penguin (Pygoscelis adeliae)                 0\n",
            "16  Chinstrap penguin (Pygoscelis antarctica)                 1\n",
            "17  Chinstrap penguin (Pygoscelis antarctica)                 1\n",
            "18        Adelie Penguin (Pygoscelis adeliae)                 0\n",
            "19        Adelie Penguin (Pygoscelis adeliae)                 0\n",
            "20  Chinstrap penguin (Pygoscelis antarctica)                 1\n",
            "21  Chinstrap penguin (Pygoscelis antarctica)                 1\n",
            "22  Chinstrap penguin (Pygoscelis antarctica)                 1\n",
            "23  Chinstrap penguin (Pygoscelis antarctica)                 1\n",
            "24  Chinstrap penguin (Pygoscelis antarctica)                 1\n",
            "25  Chinstrap penguin (Pygoscelis antarctica)                 1\n",
            "26  Chinstrap penguin (Pygoscelis antarctica)                 1\n",
            "27  Chinstrap penguin (Pygoscelis antarctica)                 1\n",
            "28  Chinstrap penguin (Pygoscelis antarctica)                 1\n",
            "29  Chinstrap penguin (Pygoscelis antarctica)                 1\n",
            "30  Chinstrap penguin (Pygoscelis antarctica)                 1\n",
            "31  Chinstrap penguin (Pygoscelis antarctica)                 1\n",
            "32  Chinstrap penguin (Pygoscelis antarctica)                 1\n",
            "33  Chinstrap penguin (Pygoscelis antarctica)                 1\n",
            "34  Chinstrap penguin (Pygoscelis antarctica)                 1\n",
            "35        Adelie Penguin (Pygoscelis adeliae)                 1\n",
            "36        Adelie Penguin (Pygoscelis adeliae)                 1\n",
            "37        Adelie Penguin (Pygoscelis adeliae)                 1\n",
            "38        Adelie Penguin (Pygoscelis adeliae)                 1\n",
            "39        Adelie Penguin (Pygoscelis adeliae)                 1\n",
            "40        Adelie Penguin (Pygoscelis adeliae)                 1\n",
            "41        Adelie Penguin (Pygoscelis adeliae)                 1\n",
            "42        Adelie Penguin (Pygoscelis adeliae)                 1\n",
            "43        Adelie Penguin (Pygoscelis adeliae)                 1\n",
            "44        Adelie Penguin (Pygoscelis adeliae)                 1\n",
            "45        Adelie Penguin (Pygoscelis adeliae)                 1\n",
            "46        Adelie Penguin (Pygoscelis adeliae)                 1\n",
            "47        Adelie Penguin (Pygoscelis adeliae)                 1\n",
            "48        Adelie Penguin (Pygoscelis adeliae)                 1\n",
            "49        Adelie Penguin (Pygoscelis adeliae)                 1\n",
            "50        Adelie Penguin (Pygoscelis adeliae)                 1\n"
          ]
        }
      ]
    },
    {
      "cell_type": "code",
      "execution_count": 25,
      "metadata": {
        "id": "YNZJXkPPxro9",
        "colab": {
          "base_uri": "https://localhost:8080/"
        },
        "outputId": "9575fac6-5ef0-4108-d6f6-2ec43d7ad299"
      },
      "outputs": [
        {
          "output_type": "stream",
          "name": "stdout",
          "text": [
            "Akurasi model: 0.927536231884058\n"
          ]
        }
      ],
      "source": [
        "# model ke numpy baru yang sudah di ckaler. pakai numpy data frame.\n",
        "# Pisahkan fitur (X) dan target (y)\n",
        "X = df[['culmen_length_mm', 'flipper_length_mm', 'body_mass_g']].values  # Menggunakan .values untuk konversi ke NumPy array\n",
        "y = df['species'].values  # Menggunakan .values untuk konversi ke NumPy array\n",
        "\n",
        "# Bagi dataset menjadi data latih dan data uji\n",
        "X_train, X_test, y_train, y_test = train_test_split(X, y, test_size=0.2, random_state=42)\n",
        "\n",
        "# Inisialisasi StandardScaler\n",
        "scaler = StandardScaler()\n",
        "\n",
        "# Fit dan transform data latih\n",
        "X_train = scaler.fit_transform(X_train)\n",
        "\n",
        "# Transform data uji\n",
        "X_test = scaler.transform(X_test)\n",
        "\n",
        "# Inisialisasi model Random Forest\n",
        "model = RandomForestClassifier()\n",
        "\n",
        "# Latih model dengan data latih yang sudah di-scaled\n",
        "model.fit(X_train, y_train)\n",
        "\n",
        "# Prediksi dengan data uji\n",
        "y_pred = model.predict(X_test)\n",
        "\n",
        "# Evaluasi model\n",
        "accuracy = accuracy_score(y_test, y_pred)\n",
        "print(f\"Akurasi model: {accuracy}\")"
      ]
    },
    {
      "cell_type": "code",
      "source": [
        "# prompt: Inisialisasi StandardScaler, untuk pemasukan data yang baru. supaya datanya tidak salah klasifikasi\n",
        "\n",
        "# ... (your existing code)\n",
        "\n",
        "# Pisahkan fitur (X) dan target (y)\n",
        "X = df[['culmen_length_mm', 'flipper_length_mm', 'body_mass_g']].values\n",
        "y = df['species'].values\n",
        "\n",
        "# Bagi dataset menjadi data latih dan data uji\n",
        "X_train, X_test, y_train, y_test = train_test_split(X, y, test_size=0.2, random_state=42)\n",
        "\n",
        "# Inisialisasi StandardScaler\n",
        "scaler = StandardScaler()\n",
        "\n",
        "# Fit scaler pada data latih dan transform data latih\n",
        "X_train_scaled = scaler.fit_transform(X_train)\n",
        "\n",
        "# Transform data uji menggunakan scaler yang sudah di-fit pada data latih\n",
        "X_test_scaled = scaler.transform(X_test)\n",
        "\n",
        "# Inisialisasi model Random Forest\n",
        "model = RandomForestClassifier()\n",
        "\n",
        "# Latih model dengan data latih yang sudah di-scaled\n",
        "model.fit(X_train_scaled, y_train)\n",
        "\n",
        "# Prediksi dengan data uji yang sudah di-scaled\n",
        "y_pred = model.predict(X_test_scaled)\n",
        "\n",
        "# Evaluasi model\n",
        "accuracy = accuracy_score(y_test, y_pred)\n",
        "print(f\"Akurasi model: {accuracy}\")\n",
        "\n",
        "# Simpan scaler dan model\n",
        "filename_scaler = 'penguin_scaler.sav'\n",
        "pickle.dump(scaler, open(filename_scaler, 'wb'))\n",
        "\n",
        "filename_model = 'penguin_model.sav'\n",
        "pickle.dump(model, open(filename_model, 'wb'))\n",
        "\n",
        "# Function to predict species and display result (Updated to use the scaler)\n",
        "def predict_species(culmen_length, flipper_length, body_mass):\n",
        "  # Load the scaler\n",
        "  loaded_scaler = pickle.load(open(filename_scaler, 'rb'))\n",
        "\n",
        "  # Load the model\n",
        "  loaded_model = pickle.load(open(filename_model, 'rb'))\n",
        "\n",
        "  input_data = np.array([[culmen_length, flipper_length, body_mass]])\n",
        "  # Scale the input data using the loaded scaler\n",
        "  input_data_scaled = loaded_scaler.transform(input_data)\n",
        "\n",
        "  predicted_species = loaded_model.predict(input_data_scaled)[0]\n",
        "  return predicted_species\n",
        "\n",
        "# ... (your existing code)"
      ],
      "metadata": {
        "colab": {
          "base_uri": "https://localhost:8080/"
        },
        "id": "AMTUPKcx02In",
        "outputId": "6975924d-303d-4691-a2f4-4709db1296c5"
      },
      "execution_count": 26,
      "outputs": [
        {
          "output_type": "stream",
          "name": "stdout",
          "text": [
            "Akurasi model: 0.9130434782608695\n"
          ]
        }
      ]
    },
    {
      "cell_type": "code",
      "execution_count": 27,
      "metadata": {
        "id": "pWZtiGgkyOW9",
        "colab": {
          "base_uri": "https://localhost:8080/",
          "height": 145,
          "referenced_widgets": [
            "78355700eac44c98829d5e9b2fb6ddec",
            "c5612d0c95a342208996ee7e201860f1",
            "64d996d4d1a4434c883c908d86ca7b44",
            "631761984e63434bb1a04a4d4b67b122",
            "def7da58b15648fbb622fd92927f6a6a",
            "34e738fb2c0b4e06a5961e2ee4741695",
            "c326e9abf898437db24edfbcae41b80c",
            "76e31500186245da81eae4ea42a56002",
            "a7ca7e8d0733426d8baf119889b20e52",
            "cff307cefbad41ac821a4cdd5f18ddb2",
            "a92d453efb2e4a2db13962718c7897ed",
            "5e4dfdcfa0f44f0784ac38a840b3997a",
            "80eac77d3c4841b18692ae9a5ed16513",
            "d8d619bbcf5a47d28952eabf60455349",
            "25604bc47278495193224e84700a8dc9"
          ]
        },
        "outputId": "e214236b-71bf-4f36-8ad5-ae77b4543fa4"
      },
      "outputs": [
        {
          "output_type": "display_data",
          "data": {
            "text/plain": [
              "FloatText(value=0.0, description='Culmen Length (mm):')"
            ],
            "application/vnd.jupyter.widget-view+json": {
              "version_major": 2,
              "version_minor": 0,
              "model_id": "78355700eac44c98829d5e9b2fb6ddec"
            }
          },
          "metadata": {}
        },
        {
          "output_type": "display_data",
          "data": {
            "text/plain": [
              "FloatText(value=0.0, description='Flipper Length (mm):')"
            ],
            "application/vnd.jupyter.widget-view+json": {
              "version_major": 2,
              "version_minor": 0,
              "model_id": "631761984e63434bb1a04a4d4b67b122"
            }
          },
          "metadata": {}
        },
        {
          "output_type": "display_data",
          "data": {
            "text/plain": [
              "FloatText(value=0.0, description='Body Mass (g):')"
            ],
            "application/vnd.jupyter.widget-view+json": {
              "version_major": 2,
              "version_minor": 0,
              "model_id": "c326e9abf898437db24edfbcae41b80c"
            }
          },
          "metadata": {}
        },
        {
          "output_type": "display_data",
          "data": {
            "text/plain": [
              "Button(description='Predict Species', style=ButtonStyle())"
            ],
            "application/vnd.jupyter.widget-view+json": {
              "version_major": 2,
              "version_minor": 0,
              "model_id": "cff307cefbad41ac821a4cdd5f18ddb2"
            }
          },
          "metadata": {}
        },
        {
          "output_type": "display_data",
          "data": {
            "text/plain": [
              "Label(value='')"
            ],
            "application/vnd.jupyter.widget-view+json": {
              "version_major": 2,
              "version_minor": 0,
              "model_id": "80eac77d3c4841b18692ae9a5ed16513"
            }
          },
          "metadata": {}
        }
      ],
      "source": [
        "##aplikasi mini untuk prediksi\n",
        "# Function to predict species and display result\n",
        "def predict_species(culmen_length, flipper_length, body_mass):\n",
        "  input_data = np.array([[culmen_length, flipper_length, body_mass]])\n",
        "  predicted_species = loaded_model.predict(input_data)[0]\n",
        "  return predicted_species\n",
        "\n",
        "# Load the saved model\n",
        "filename = 'penguin_species_model_yangdigunakan.sav'  # Replace with your model filename\n",
        "loaded_model = pickle.load(open(filename, 'rb'))\n",
        "\n",
        "# Create input widgets\n",
        "culmen_length_input = widgets.FloatText(description=\"Culmen Length (mm):\")\n",
        "flipper_length_input = widgets.FloatText(description=\"Flipper Length (mm):\")\n",
        "body_mass_input = widgets.FloatText(description=\"Body Mass (g):\")\n",
        "predict_button = widgets.Button(description=\"Predict Species\")\n",
        "result_label = widgets.Label(value=\"\")\n",
        "\n",
        "# Display widgets\n",
        "display(culmen_length_input, flipper_length_input, body_mass_input, predict_button, result_label)\n",
        "\n",
        "# Function to handle button click\n",
        "def on_button_clicked(b):\n",
        "  clear_output()\n",
        "  display(culmen_length_input, flipper_length_input, body_mass_input, predict_button, result_label)\n",
        "\n",
        "  try:\n",
        "    culmen_length = culmen_length_input.value\n",
        "    flipper_length = flipper_length_input.value\n",
        "    body_mass = body_mass_input.value\n",
        "\n",
        "    if not culmen_length or not flipper_length or not body_mass:\n",
        "      result_label.value = \"Please enter all values.\"\n",
        "      return\n",
        "\n",
        "    predicted_species = predict_species(culmen_length, flipper_length, body_mass)\n",
        "    result_label.value = f\"Predicted species: {predicted_species}\"\n",
        "\n",
        "  except Exception as e:\n",
        "    result_label.value = f\"Error: {e}\"\n",
        "\n",
        "# Link button click to prediction function\n",
        "predict_button.on_click(on_button_clicked)"
      ]
    }
  ],
  "metadata": {
    "colab": {
      "provenance": [],
      "authorship_tag": "ABX9TyMA4R2TtdvgGocjlsTh2/kM",
      "include_colab_link": true
    },
    "kernelspec": {
      "display_name": "Python 3",
      "name": "python3"
    },
    "language_info": {
      "name": "python"
    },
    "widgets": {
      "application/vnd.jupyter.widget-state+json": {
        "45ba27fae8d9404dbfd81c0a29e15c0a": {
          "model_module": "@jupyter-widgets/controls",
          "model_name": "TextModel",
          "model_module_version": "1.5.0",
          "state": {
            "_dom_classes": [],
            "_model_module": "@jupyter-widgets/controls",
            "_model_module_version": "1.5.0",
            "_model_name": "TextModel",
            "_view_count": null,
            "_view_module": "@jupyter-widgets/controls",
            "_view_module_version": "1.5.0",
            "_view_name": "TextView",
            "continuous_update": true,
            "description": "Culmen Length (mm):",
            "description_tooltip": null,
            "disabled": false,
            "layout": "IPY_MODEL_42698518397a44d1ac37b234754c2a54",
            "placeholder": "​",
            "style": "IPY_MODEL_83baa4a2b86b41c288b166973ee0d6e3",
            "value": ""
          }
        },
        "42698518397a44d1ac37b234754c2a54": {
          "model_module": "@jupyter-widgets/base",
          "model_name": "LayoutModel",
          "model_module_version": "1.2.0",
          "state": {
            "_model_module": "@jupyter-widgets/base",
            "_model_module_version": "1.2.0",
            "_model_name": "LayoutModel",
            "_view_count": null,
            "_view_module": "@jupyter-widgets/base",
            "_view_module_version": "1.2.0",
            "_view_name": "LayoutView",
            "align_content": null,
            "align_items": null,
            "align_self": null,
            "border": null,
            "bottom": null,
            "display": null,
            "flex": null,
            "flex_flow": null,
            "grid_area": null,
            "grid_auto_columns": null,
            "grid_auto_flow": null,
            "grid_auto_rows": null,
            "grid_column": null,
            "grid_gap": null,
            "grid_row": null,
            "grid_template_areas": null,
            "grid_template_columns": null,
            "grid_template_rows": null,
            "height": null,
            "justify_content": null,
            "justify_items": null,
            "left": null,
            "margin": null,
            "max_height": null,
            "max_width": null,
            "min_height": null,
            "min_width": null,
            "object_fit": null,
            "object_position": null,
            "order": null,
            "overflow": null,
            "overflow_x": null,
            "overflow_y": null,
            "padding": null,
            "right": null,
            "top": null,
            "visibility": null,
            "width": null
          }
        },
        "83baa4a2b86b41c288b166973ee0d6e3": {
          "model_module": "@jupyter-widgets/controls",
          "model_name": "DescriptionStyleModel",
          "model_module_version": "1.5.0",
          "state": {
            "_model_module": "@jupyter-widgets/controls",
            "_model_module_version": "1.5.0",
            "_model_name": "DescriptionStyleModel",
            "_view_count": null,
            "_view_module": "@jupyter-widgets/base",
            "_view_module_version": "1.2.0",
            "_view_name": "StyleView",
            "description_width": ""
          }
        },
        "71632939d61940a2965154626aa55f57": {
          "model_module": "@jupyter-widgets/controls",
          "model_name": "TextModel",
          "model_module_version": "1.5.0",
          "state": {
            "_dom_classes": [],
            "_model_module": "@jupyter-widgets/controls",
            "_model_module_version": "1.5.0",
            "_model_name": "TextModel",
            "_view_count": null,
            "_view_module": "@jupyter-widgets/controls",
            "_view_module_version": "1.5.0",
            "_view_name": "TextView",
            "continuous_update": true,
            "description": "Culmen Depth (mm):",
            "description_tooltip": null,
            "disabled": false,
            "layout": "IPY_MODEL_5bdd51a060b3492497b8fd32773f73b1",
            "placeholder": "​",
            "style": "IPY_MODEL_73c2d692fb884b9a8f4142494f3fbd2d",
            "value": ""
          }
        },
        "5bdd51a060b3492497b8fd32773f73b1": {
          "model_module": "@jupyter-widgets/base",
          "model_name": "LayoutModel",
          "model_module_version": "1.2.0",
          "state": {
            "_model_module": "@jupyter-widgets/base",
            "_model_module_version": "1.2.0",
            "_model_name": "LayoutModel",
            "_view_count": null,
            "_view_module": "@jupyter-widgets/base",
            "_view_module_version": "1.2.0",
            "_view_name": "LayoutView",
            "align_content": null,
            "align_items": null,
            "align_self": null,
            "border": null,
            "bottom": null,
            "display": null,
            "flex": null,
            "flex_flow": null,
            "grid_area": null,
            "grid_auto_columns": null,
            "grid_auto_flow": null,
            "grid_auto_rows": null,
            "grid_column": null,
            "grid_gap": null,
            "grid_row": null,
            "grid_template_areas": null,
            "grid_template_columns": null,
            "grid_template_rows": null,
            "height": null,
            "justify_content": null,
            "justify_items": null,
            "left": null,
            "margin": null,
            "max_height": null,
            "max_width": null,
            "min_height": null,
            "min_width": null,
            "object_fit": null,
            "object_position": null,
            "order": null,
            "overflow": null,
            "overflow_x": null,
            "overflow_y": null,
            "padding": null,
            "right": null,
            "top": null,
            "visibility": null,
            "width": null
          }
        },
        "73c2d692fb884b9a8f4142494f3fbd2d": {
          "model_module": "@jupyter-widgets/controls",
          "model_name": "DescriptionStyleModel",
          "model_module_version": "1.5.0",
          "state": {
            "_model_module": "@jupyter-widgets/controls",
            "_model_module_version": "1.5.0",
            "_model_name": "DescriptionStyleModel",
            "_view_count": null,
            "_view_module": "@jupyter-widgets/base",
            "_view_module_version": "1.2.0",
            "_view_name": "StyleView",
            "description_width": ""
          }
        },
        "cb48f00ce8a74823b7234b2c78138a9b": {
          "model_module": "@jupyter-widgets/controls",
          "model_name": "TextModel",
          "model_module_version": "1.5.0",
          "state": {
            "_dom_classes": [],
            "_model_module": "@jupyter-widgets/controls",
            "_model_module_version": "1.5.0",
            "_model_name": "TextModel",
            "_view_count": null,
            "_view_module": "@jupyter-widgets/controls",
            "_view_module_version": "1.5.0",
            "_view_name": "TextView",
            "continuous_update": true,
            "description": "Flipper Length (mm):",
            "description_tooltip": null,
            "disabled": false,
            "layout": "IPY_MODEL_cc12638498e646a7beecfdc50cdda53b",
            "placeholder": "​",
            "style": "IPY_MODEL_4da3ff3dc21e4179abf7ced9d4553532",
            "value": ""
          }
        },
        "cc12638498e646a7beecfdc50cdda53b": {
          "model_module": "@jupyter-widgets/base",
          "model_name": "LayoutModel",
          "model_module_version": "1.2.0",
          "state": {
            "_model_module": "@jupyter-widgets/base",
            "_model_module_version": "1.2.0",
            "_model_name": "LayoutModel",
            "_view_count": null,
            "_view_module": "@jupyter-widgets/base",
            "_view_module_version": "1.2.0",
            "_view_name": "LayoutView",
            "align_content": null,
            "align_items": null,
            "align_self": null,
            "border": null,
            "bottom": null,
            "display": null,
            "flex": null,
            "flex_flow": null,
            "grid_area": null,
            "grid_auto_columns": null,
            "grid_auto_flow": null,
            "grid_auto_rows": null,
            "grid_column": null,
            "grid_gap": null,
            "grid_row": null,
            "grid_template_areas": null,
            "grid_template_columns": null,
            "grid_template_rows": null,
            "height": null,
            "justify_content": null,
            "justify_items": null,
            "left": null,
            "margin": null,
            "max_height": null,
            "max_width": null,
            "min_height": null,
            "min_width": null,
            "object_fit": null,
            "object_position": null,
            "order": null,
            "overflow": null,
            "overflow_x": null,
            "overflow_y": null,
            "padding": null,
            "right": null,
            "top": null,
            "visibility": null,
            "width": null
          }
        },
        "4da3ff3dc21e4179abf7ced9d4553532": {
          "model_module": "@jupyter-widgets/controls",
          "model_name": "DescriptionStyleModel",
          "model_module_version": "1.5.0",
          "state": {
            "_model_module": "@jupyter-widgets/controls",
            "_model_module_version": "1.5.0",
            "_model_name": "DescriptionStyleModel",
            "_view_count": null,
            "_view_module": "@jupyter-widgets/base",
            "_view_module_version": "1.2.0",
            "_view_name": "StyleView",
            "description_width": ""
          }
        },
        "a44d11dcd39a4cc3ba59e991f88287e3": {
          "model_module": "@jupyter-widgets/controls",
          "model_name": "TextModel",
          "model_module_version": "1.5.0",
          "state": {
            "_dom_classes": [],
            "_model_module": "@jupyter-widgets/controls",
            "_model_module_version": "1.5.0",
            "_model_name": "TextModel",
            "_view_count": null,
            "_view_module": "@jupyter-widgets/controls",
            "_view_module_version": "1.5.0",
            "_view_name": "TextView",
            "continuous_update": true,
            "description": "Body Mass (g):",
            "description_tooltip": null,
            "disabled": false,
            "layout": "IPY_MODEL_8de93d4556154110b681f998c54d8597",
            "placeholder": "​",
            "style": "IPY_MODEL_a667a165a6034decbd254b6c586602e8",
            "value": ""
          }
        },
        "8de93d4556154110b681f998c54d8597": {
          "model_module": "@jupyter-widgets/base",
          "model_name": "LayoutModel",
          "model_module_version": "1.2.0",
          "state": {
            "_model_module": "@jupyter-widgets/base",
            "_model_module_version": "1.2.0",
            "_model_name": "LayoutModel",
            "_view_count": null,
            "_view_module": "@jupyter-widgets/base",
            "_view_module_version": "1.2.0",
            "_view_name": "LayoutView",
            "align_content": null,
            "align_items": null,
            "align_self": null,
            "border": null,
            "bottom": null,
            "display": null,
            "flex": null,
            "flex_flow": null,
            "grid_area": null,
            "grid_auto_columns": null,
            "grid_auto_flow": null,
            "grid_auto_rows": null,
            "grid_column": null,
            "grid_gap": null,
            "grid_row": null,
            "grid_template_areas": null,
            "grid_template_columns": null,
            "grid_template_rows": null,
            "height": null,
            "justify_content": null,
            "justify_items": null,
            "left": null,
            "margin": null,
            "max_height": null,
            "max_width": null,
            "min_height": null,
            "min_width": null,
            "object_fit": null,
            "object_position": null,
            "order": null,
            "overflow": null,
            "overflow_x": null,
            "overflow_y": null,
            "padding": null,
            "right": null,
            "top": null,
            "visibility": null,
            "width": null
          }
        },
        "a667a165a6034decbd254b6c586602e8": {
          "model_module": "@jupyter-widgets/controls",
          "model_name": "DescriptionStyleModel",
          "model_module_version": "1.5.0",
          "state": {
            "_model_module": "@jupyter-widgets/controls",
            "_model_module_version": "1.5.0",
            "_model_name": "DescriptionStyleModel",
            "_view_count": null,
            "_view_module": "@jupyter-widgets/base",
            "_view_module_version": "1.2.0",
            "_view_name": "StyleView",
            "description_width": ""
          }
        },
        "54742fc25cb949a29821d240dc77b81b": {
          "model_module": "@jupyter-widgets/controls",
          "model_name": "ButtonModel",
          "model_module_version": "1.5.0",
          "state": {
            "_dom_classes": [],
            "_model_module": "@jupyter-widgets/controls",
            "_model_module_version": "1.5.0",
            "_model_name": "ButtonModel",
            "_view_count": null,
            "_view_module": "@jupyter-widgets/controls",
            "_view_module_version": "1.5.0",
            "_view_name": "ButtonView",
            "button_style": "",
            "description": "Predict Species",
            "disabled": false,
            "icon": "",
            "layout": "IPY_MODEL_546a2cab8c7c45d3aa24779a1689929e",
            "style": "IPY_MODEL_7685059360a346bd9218fb0a056abc3f",
            "tooltip": ""
          }
        },
        "546a2cab8c7c45d3aa24779a1689929e": {
          "model_module": "@jupyter-widgets/base",
          "model_name": "LayoutModel",
          "model_module_version": "1.2.0",
          "state": {
            "_model_module": "@jupyter-widgets/base",
            "_model_module_version": "1.2.0",
            "_model_name": "LayoutModel",
            "_view_count": null,
            "_view_module": "@jupyter-widgets/base",
            "_view_module_version": "1.2.0",
            "_view_name": "LayoutView",
            "align_content": null,
            "align_items": null,
            "align_self": null,
            "border": null,
            "bottom": null,
            "display": null,
            "flex": null,
            "flex_flow": null,
            "grid_area": null,
            "grid_auto_columns": null,
            "grid_auto_flow": null,
            "grid_auto_rows": null,
            "grid_column": null,
            "grid_gap": null,
            "grid_row": null,
            "grid_template_areas": null,
            "grid_template_columns": null,
            "grid_template_rows": null,
            "height": null,
            "justify_content": null,
            "justify_items": null,
            "left": null,
            "margin": null,
            "max_height": null,
            "max_width": null,
            "min_height": null,
            "min_width": null,
            "object_fit": null,
            "object_position": null,
            "order": null,
            "overflow": null,
            "overflow_x": null,
            "overflow_y": null,
            "padding": null,
            "right": null,
            "top": null,
            "visibility": null,
            "width": null
          }
        },
        "7685059360a346bd9218fb0a056abc3f": {
          "model_module": "@jupyter-widgets/controls",
          "model_name": "ButtonStyleModel",
          "model_module_version": "1.5.0",
          "state": {
            "_model_module": "@jupyter-widgets/controls",
            "_model_module_version": "1.5.0",
            "_model_name": "ButtonStyleModel",
            "_view_count": null,
            "_view_module": "@jupyter-widgets/base",
            "_view_module_version": "1.2.0",
            "_view_name": "StyleView",
            "button_color": null,
            "font_weight": ""
          }
        },
        "e792b198e80e4cb6936d16965ece96b4": {
          "model_module": "@jupyter-widgets/controls",
          "model_name": "LabelModel",
          "model_module_version": "1.5.0",
          "state": {
            "_dom_classes": [],
            "_model_module": "@jupyter-widgets/controls",
            "_model_module_version": "1.5.0",
            "_model_name": "LabelModel",
            "_view_count": null,
            "_view_module": "@jupyter-widgets/controls",
            "_view_module_version": "1.5.0",
            "_view_name": "LabelView",
            "description": "",
            "description_tooltip": null,
            "layout": "IPY_MODEL_444cdcc4fff74f5697f03e51b03b8c51",
            "placeholder": "​",
            "style": "IPY_MODEL_ec603ce7314d494f947bc5b86500f08c",
            "value": ""
          }
        },
        "444cdcc4fff74f5697f03e51b03b8c51": {
          "model_module": "@jupyter-widgets/base",
          "model_name": "LayoutModel",
          "model_module_version": "1.2.0",
          "state": {
            "_model_module": "@jupyter-widgets/base",
            "_model_module_version": "1.2.0",
            "_model_name": "LayoutModel",
            "_view_count": null,
            "_view_module": "@jupyter-widgets/base",
            "_view_module_version": "1.2.0",
            "_view_name": "LayoutView",
            "align_content": null,
            "align_items": null,
            "align_self": null,
            "border": null,
            "bottom": null,
            "display": null,
            "flex": null,
            "flex_flow": null,
            "grid_area": null,
            "grid_auto_columns": null,
            "grid_auto_flow": null,
            "grid_auto_rows": null,
            "grid_column": null,
            "grid_gap": null,
            "grid_row": null,
            "grid_template_areas": null,
            "grid_template_columns": null,
            "grid_template_rows": null,
            "height": null,
            "justify_content": null,
            "justify_items": null,
            "left": null,
            "margin": null,
            "max_height": null,
            "max_width": null,
            "min_height": null,
            "min_width": null,
            "object_fit": null,
            "object_position": null,
            "order": null,
            "overflow": null,
            "overflow_x": null,
            "overflow_y": null,
            "padding": null,
            "right": null,
            "top": null,
            "visibility": null,
            "width": null
          }
        },
        "ec603ce7314d494f947bc5b86500f08c": {
          "model_module": "@jupyter-widgets/controls",
          "model_name": "DescriptionStyleModel",
          "model_module_version": "1.5.0",
          "state": {
            "_model_module": "@jupyter-widgets/controls",
            "_model_module_version": "1.5.0",
            "_model_name": "DescriptionStyleModel",
            "_view_count": null,
            "_view_module": "@jupyter-widgets/base",
            "_view_module_version": "1.2.0",
            "_view_name": "StyleView",
            "description_width": ""
          }
        },
        "78355700eac44c98829d5e9b2fb6ddec": {
          "model_module": "@jupyter-widgets/controls",
          "model_name": "FloatTextModel",
          "model_module_version": "1.5.0",
          "state": {
            "_dom_classes": [],
            "_model_module": "@jupyter-widgets/controls",
            "_model_module_version": "1.5.0",
            "_model_name": "FloatTextModel",
            "_view_count": null,
            "_view_module": "@jupyter-widgets/controls",
            "_view_module_version": "1.5.0",
            "_view_name": "FloatTextView",
            "continuous_update": false,
            "description": "Culmen Length (mm):",
            "description_tooltip": null,
            "disabled": false,
            "layout": "IPY_MODEL_c5612d0c95a342208996ee7e201860f1",
            "step": null,
            "style": "IPY_MODEL_64d996d4d1a4434c883c908d86ca7b44",
            "value": 0
          }
        },
        "c5612d0c95a342208996ee7e201860f1": {
          "model_module": "@jupyter-widgets/base",
          "model_name": "LayoutModel",
          "model_module_version": "1.2.0",
          "state": {
            "_model_module": "@jupyter-widgets/base",
            "_model_module_version": "1.2.0",
            "_model_name": "LayoutModel",
            "_view_count": null,
            "_view_module": "@jupyter-widgets/base",
            "_view_module_version": "1.2.0",
            "_view_name": "LayoutView",
            "align_content": null,
            "align_items": null,
            "align_self": null,
            "border": null,
            "bottom": null,
            "display": null,
            "flex": null,
            "flex_flow": null,
            "grid_area": null,
            "grid_auto_columns": null,
            "grid_auto_flow": null,
            "grid_auto_rows": null,
            "grid_column": null,
            "grid_gap": null,
            "grid_row": null,
            "grid_template_areas": null,
            "grid_template_columns": null,
            "grid_template_rows": null,
            "height": null,
            "justify_content": null,
            "justify_items": null,
            "left": null,
            "margin": null,
            "max_height": null,
            "max_width": null,
            "min_height": null,
            "min_width": null,
            "object_fit": null,
            "object_position": null,
            "order": null,
            "overflow": null,
            "overflow_x": null,
            "overflow_y": null,
            "padding": null,
            "right": null,
            "top": null,
            "visibility": null,
            "width": null
          }
        },
        "64d996d4d1a4434c883c908d86ca7b44": {
          "model_module": "@jupyter-widgets/controls",
          "model_name": "DescriptionStyleModel",
          "model_module_version": "1.5.0",
          "state": {
            "_model_module": "@jupyter-widgets/controls",
            "_model_module_version": "1.5.0",
            "_model_name": "DescriptionStyleModel",
            "_view_count": null,
            "_view_module": "@jupyter-widgets/base",
            "_view_module_version": "1.2.0",
            "_view_name": "StyleView",
            "description_width": ""
          }
        },
        "631761984e63434bb1a04a4d4b67b122": {
          "model_module": "@jupyter-widgets/controls",
          "model_name": "FloatTextModel",
          "model_module_version": "1.5.0",
          "state": {
            "_dom_classes": [],
            "_model_module": "@jupyter-widgets/controls",
            "_model_module_version": "1.5.0",
            "_model_name": "FloatTextModel",
            "_view_count": null,
            "_view_module": "@jupyter-widgets/controls",
            "_view_module_version": "1.5.0",
            "_view_name": "FloatTextView",
            "continuous_update": false,
            "description": "Flipper Length (mm):",
            "description_tooltip": null,
            "disabled": false,
            "layout": "IPY_MODEL_def7da58b15648fbb622fd92927f6a6a",
            "step": null,
            "style": "IPY_MODEL_34e738fb2c0b4e06a5961e2ee4741695",
            "value": 0
          }
        },
        "def7da58b15648fbb622fd92927f6a6a": {
          "model_module": "@jupyter-widgets/base",
          "model_name": "LayoutModel",
          "model_module_version": "1.2.0",
          "state": {
            "_model_module": "@jupyter-widgets/base",
            "_model_module_version": "1.2.0",
            "_model_name": "LayoutModel",
            "_view_count": null,
            "_view_module": "@jupyter-widgets/base",
            "_view_module_version": "1.2.0",
            "_view_name": "LayoutView",
            "align_content": null,
            "align_items": null,
            "align_self": null,
            "border": null,
            "bottom": null,
            "display": null,
            "flex": null,
            "flex_flow": null,
            "grid_area": null,
            "grid_auto_columns": null,
            "grid_auto_flow": null,
            "grid_auto_rows": null,
            "grid_column": null,
            "grid_gap": null,
            "grid_row": null,
            "grid_template_areas": null,
            "grid_template_columns": null,
            "grid_template_rows": null,
            "height": null,
            "justify_content": null,
            "justify_items": null,
            "left": null,
            "margin": null,
            "max_height": null,
            "max_width": null,
            "min_height": null,
            "min_width": null,
            "object_fit": null,
            "object_position": null,
            "order": null,
            "overflow": null,
            "overflow_x": null,
            "overflow_y": null,
            "padding": null,
            "right": null,
            "top": null,
            "visibility": null,
            "width": null
          }
        },
        "34e738fb2c0b4e06a5961e2ee4741695": {
          "model_module": "@jupyter-widgets/controls",
          "model_name": "DescriptionStyleModel",
          "model_module_version": "1.5.0",
          "state": {
            "_model_module": "@jupyter-widgets/controls",
            "_model_module_version": "1.5.0",
            "_model_name": "DescriptionStyleModel",
            "_view_count": null,
            "_view_module": "@jupyter-widgets/base",
            "_view_module_version": "1.2.0",
            "_view_name": "StyleView",
            "description_width": ""
          }
        },
        "c326e9abf898437db24edfbcae41b80c": {
          "model_module": "@jupyter-widgets/controls",
          "model_name": "FloatTextModel",
          "model_module_version": "1.5.0",
          "state": {
            "_dom_classes": [],
            "_model_module": "@jupyter-widgets/controls",
            "_model_module_version": "1.5.0",
            "_model_name": "FloatTextModel",
            "_view_count": null,
            "_view_module": "@jupyter-widgets/controls",
            "_view_module_version": "1.5.0",
            "_view_name": "FloatTextView",
            "continuous_update": false,
            "description": "Body Mass (g):",
            "description_tooltip": null,
            "disabled": false,
            "layout": "IPY_MODEL_76e31500186245da81eae4ea42a56002",
            "step": null,
            "style": "IPY_MODEL_a7ca7e8d0733426d8baf119889b20e52",
            "value": 0
          }
        },
        "76e31500186245da81eae4ea42a56002": {
          "model_module": "@jupyter-widgets/base",
          "model_name": "LayoutModel",
          "model_module_version": "1.2.0",
          "state": {
            "_model_module": "@jupyter-widgets/base",
            "_model_module_version": "1.2.0",
            "_model_name": "LayoutModel",
            "_view_count": null,
            "_view_module": "@jupyter-widgets/base",
            "_view_module_version": "1.2.0",
            "_view_name": "LayoutView",
            "align_content": null,
            "align_items": null,
            "align_self": null,
            "border": null,
            "bottom": null,
            "display": null,
            "flex": null,
            "flex_flow": null,
            "grid_area": null,
            "grid_auto_columns": null,
            "grid_auto_flow": null,
            "grid_auto_rows": null,
            "grid_column": null,
            "grid_gap": null,
            "grid_row": null,
            "grid_template_areas": null,
            "grid_template_columns": null,
            "grid_template_rows": null,
            "height": null,
            "justify_content": null,
            "justify_items": null,
            "left": null,
            "margin": null,
            "max_height": null,
            "max_width": null,
            "min_height": null,
            "min_width": null,
            "object_fit": null,
            "object_position": null,
            "order": null,
            "overflow": null,
            "overflow_x": null,
            "overflow_y": null,
            "padding": null,
            "right": null,
            "top": null,
            "visibility": null,
            "width": null
          }
        },
        "a7ca7e8d0733426d8baf119889b20e52": {
          "model_module": "@jupyter-widgets/controls",
          "model_name": "DescriptionStyleModel",
          "model_module_version": "1.5.0",
          "state": {
            "_model_module": "@jupyter-widgets/controls",
            "_model_module_version": "1.5.0",
            "_model_name": "DescriptionStyleModel",
            "_view_count": null,
            "_view_module": "@jupyter-widgets/base",
            "_view_module_version": "1.2.0",
            "_view_name": "StyleView",
            "description_width": ""
          }
        },
        "cff307cefbad41ac821a4cdd5f18ddb2": {
          "model_module": "@jupyter-widgets/controls",
          "model_name": "ButtonModel",
          "model_module_version": "1.5.0",
          "state": {
            "_dom_classes": [],
            "_model_module": "@jupyter-widgets/controls",
            "_model_module_version": "1.5.0",
            "_model_name": "ButtonModel",
            "_view_count": null,
            "_view_module": "@jupyter-widgets/controls",
            "_view_module_version": "1.5.0",
            "_view_name": "ButtonView",
            "button_style": "",
            "description": "Predict Species",
            "disabled": false,
            "icon": "",
            "layout": "IPY_MODEL_a92d453efb2e4a2db13962718c7897ed",
            "style": "IPY_MODEL_5e4dfdcfa0f44f0784ac38a840b3997a",
            "tooltip": ""
          }
        },
        "a92d453efb2e4a2db13962718c7897ed": {
          "model_module": "@jupyter-widgets/base",
          "model_name": "LayoutModel",
          "model_module_version": "1.2.0",
          "state": {
            "_model_module": "@jupyter-widgets/base",
            "_model_module_version": "1.2.0",
            "_model_name": "LayoutModel",
            "_view_count": null,
            "_view_module": "@jupyter-widgets/base",
            "_view_module_version": "1.2.0",
            "_view_name": "LayoutView",
            "align_content": null,
            "align_items": null,
            "align_self": null,
            "border": null,
            "bottom": null,
            "display": null,
            "flex": null,
            "flex_flow": null,
            "grid_area": null,
            "grid_auto_columns": null,
            "grid_auto_flow": null,
            "grid_auto_rows": null,
            "grid_column": null,
            "grid_gap": null,
            "grid_row": null,
            "grid_template_areas": null,
            "grid_template_columns": null,
            "grid_template_rows": null,
            "height": null,
            "justify_content": null,
            "justify_items": null,
            "left": null,
            "margin": null,
            "max_height": null,
            "max_width": null,
            "min_height": null,
            "min_width": null,
            "object_fit": null,
            "object_position": null,
            "order": null,
            "overflow": null,
            "overflow_x": null,
            "overflow_y": null,
            "padding": null,
            "right": null,
            "top": null,
            "visibility": null,
            "width": null
          }
        },
        "5e4dfdcfa0f44f0784ac38a840b3997a": {
          "model_module": "@jupyter-widgets/controls",
          "model_name": "ButtonStyleModel",
          "model_module_version": "1.5.0",
          "state": {
            "_model_module": "@jupyter-widgets/controls",
            "_model_module_version": "1.5.0",
            "_model_name": "ButtonStyleModel",
            "_view_count": null,
            "_view_module": "@jupyter-widgets/base",
            "_view_module_version": "1.2.0",
            "_view_name": "StyleView",
            "button_color": null,
            "font_weight": ""
          }
        },
        "80eac77d3c4841b18692ae9a5ed16513": {
          "model_module": "@jupyter-widgets/controls",
          "model_name": "LabelModel",
          "model_module_version": "1.5.0",
          "state": {
            "_dom_classes": [],
            "_model_module": "@jupyter-widgets/controls",
            "_model_module_version": "1.5.0",
            "_model_name": "LabelModel",
            "_view_count": null,
            "_view_module": "@jupyter-widgets/controls",
            "_view_module_version": "1.5.0",
            "_view_name": "LabelView",
            "description": "",
            "description_tooltip": null,
            "layout": "IPY_MODEL_d8d619bbcf5a47d28952eabf60455349",
            "placeholder": "​",
            "style": "IPY_MODEL_25604bc47278495193224e84700a8dc9",
            "value": ""
          }
        },
        "d8d619bbcf5a47d28952eabf60455349": {
          "model_module": "@jupyter-widgets/base",
          "model_name": "LayoutModel",
          "model_module_version": "1.2.0",
          "state": {
            "_model_module": "@jupyter-widgets/base",
            "_model_module_version": "1.2.0",
            "_model_name": "LayoutModel",
            "_view_count": null,
            "_view_module": "@jupyter-widgets/base",
            "_view_module_version": "1.2.0",
            "_view_name": "LayoutView",
            "align_content": null,
            "align_items": null,
            "align_self": null,
            "border": null,
            "bottom": null,
            "display": null,
            "flex": null,
            "flex_flow": null,
            "grid_area": null,
            "grid_auto_columns": null,
            "grid_auto_flow": null,
            "grid_auto_rows": null,
            "grid_column": null,
            "grid_gap": null,
            "grid_row": null,
            "grid_template_areas": null,
            "grid_template_columns": null,
            "grid_template_rows": null,
            "height": null,
            "justify_content": null,
            "justify_items": null,
            "left": null,
            "margin": null,
            "max_height": null,
            "max_width": null,
            "min_height": null,
            "min_width": null,
            "object_fit": null,
            "object_position": null,
            "order": null,
            "overflow": null,
            "overflow_x": null,
            "overflow_y": null,
            "padding": null,
            "right": null,
            "top": null,
            "visibility": null,
            "width": null
          }
        },
        "25604bc47278495193224e84700a8dc9": {
          "model_module": "@jupyter-widgets/controls",
          "model_name": "DescriptionStyleModel",
          "model_module_version": "1.5.0",
          "state": {
            "_model_module": "@jupyter-widgets/controls",
            "_model_module_version": "1.5.0",
            "_model_name": "DescriptionStyleModel",
            "_view_count": null,
            "_view_module": "@jupyter-widgets/base",
            "_view_module_version": "1.2.0",
            "_view_name": "StyleView",
            "description_width": ""
          }
        }
      }
    }
  },
  "nbformat": 4,
  "nbformat_minor": 0
}